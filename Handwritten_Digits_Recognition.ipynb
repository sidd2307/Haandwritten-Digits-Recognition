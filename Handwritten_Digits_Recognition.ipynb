{
  "nbformat": 4,
  "nbformat_minor": 0,
  "metadata": {
    "colab": {
      "name": "Handwritten Digits Recognition.ipynb",
      "provenance": [],
      "authorship_tag": "ABX9TyPAAXxB/Q9GSeBaysqA4/mt",
      "include_colab_link": true
    },
    "kernelspec": {
      "name": "python3",
      "display_name": "Python 3"
    },
    "language_info": {
      "name": "python"
    }
  },
  "cells": [
    {
      "cell_type": "markdown",
      "metadata": {
        "id": "view-in-github",
        "colab_type": "text"
      },
      "source": [
        "<a href=\"https://colab.research.google.com/github/sidd2307/Haandwritten-Digits-Recognition/blob/main/Handwritten_Digits_Recognition.ipynb\" target=\"_parent\"><img src=\"https://colab.research.google.com/assets/colab-badge.svg\" alt=\"Open In Colab\"/></a>"
      ]
    },
    {
      "cell_type": "code",
      "metadata": {
        "id": "CU5jmzD9b_Sz"
      },
      "source": [
        "#KNN-K Nearest Neighbours\n",
        "import numpy as np\n",
        "import matplotlib.pyplot as plt\n",
        "from sklearn.datasets import load_digits"
      ],
      "execution_count": null,
      "outputs": []
    },
    {
      "cell_type": "code",
      "metadata": {
        "id": "byQ8Y0LkcQMt"
      },
      "source": [
        "data = load_digits()"
      ],
      "execution_count": null,
      "outputs": []
    },
    {
      "cell_type": "code",
      "metadata": {
        "colab": {
          "base_uri": "https://localhost:8080/",
          "height": 282
        },
        "id": "HrbHoQBRfaf4",
        "outputId": "584846f7-5836-4deb-8466-153fa0d1c1ea"
      },
      "source": [
        "X = data.images\n",
        "Y = data.target\n",
        "plt.imshow(X[8], cmap = plt.get_cmap('gray'))"
      ],
      "execution_count": null,
      "outputs": [
        {
          "output_type": "execute_result",
          "data": {
            "text/plain": [
              "<matplotlib.image.AxesImage at 0x7f7bf5f4b7d0>"
            ]
          },
          "metadata": {
            "tags": []
          },
          "execution_count": 5
        },
        {
          "output_type": "display_data",
          "data": {
            "image/png": "[encoded data removed]",
            "text/plain": [
              "<Figure size 432x288 with 1 Axes>"
            ]
          },
          "metadata": {
            "tags": [],
            "needs_background": "light"
          }
        }
      ]
    },
    {
      "cell_type": "code",
      "metadata": {
        "id": "3joaENXYfl_o"
      },
      "source": [
        "def distance(x, X):\n",
        "  return np.sqrt(np.sum((x-X)**2))\n",
        "def KNN(X, Y, x, K = 5):\n",
        "  m = X.shape[0] #shape is (1797, 8, 8)-->no of data instances is 1797\n",
        "  x = x.reshape((64,))\n",
        "  val = []\n",
        "  for i in range(m):\n",
        "    xi = X[i]\n",
        "    xi = xi.reshape((64,)) #1-d array\n",
        "    dist = distance(x, xi) #distance of every point in X wrt x\n",
        "    val.append((dist, Y[i])) \n",
        "  val = sorted(val, key = lambda x:x[0])[:K]\n",
        "  val = np.asarray(val)\n",
        "  #key value pair--->3 values from class 2, 1 value from class 1, 1 value from class 2\n",
        "  new_vals = np.unique(val[:, 1], return_counts=True)\n",
        "  index = new_vals[1].argmax()\n",
        "  #returns a 2-d array--->[[2, 1, 0]\n",
        "  #                         [3, 1, 1]]\n",
        "  #returns max index item\n",
        "  output = new_vals[0][index]\n",
        "  return output"
      ],
      "execution_count": null,
      "outputs": []
    },
    {
      "cell_type": "code",
      "metadata": {
        "colab": {
          "base_uri": "https://localhost:8080/"
        },
        "id": "89-65gH-gxHe",
        "outputId": "f8794f07-0ad9-4399-bffa-0410aa7dcd34"
      },
      "source": [
        "X.shape"
      ],
      "execution_count": null,
      "outputs": [
        {
          "output_type": "execute_result",
          "data": {
            "text/plain": [
              "(1797, 8, 8)"
            ]
          },
          "metadata": {
            "tags": []
          },
          "execution_count": 11
        }
      ]
    },
    {
      "cell_type": "code",
      "metadata": {
        "id": "zhOqcjm6gy1l",
        "colab": {
          "base_uri": "https://localhost:8080/"
        },
        "outputId": "cda4063c-8777-4032-c8b5-c0a9553fc5df"
      },
      "source": [
        "#1797 datasets of 8x8(2-d image)\n",
        "KNN(X,Y, X[16])"
      ],
      "execution_count": null,
      "outputs": [
        {
          "output_type": "execute_result",
          "data": {
            "text/plain": [
              "6.0"
            ]
          },
          "metadata": {
            "tags": []
          },
          "execution_count": 12
        }
      ]
    },
    {
      "cell_type": "code",
      "metadata": {
        "colab": {
          "base_uri": "https://localhost:8080/"
        },
        "id": "EhGINVcf5uN5",
        "outputId": "4a0f92ad-65ea-40f7-ac65-71161b74fe7f"
      },
      "source": [
        "Y[16]"
      ],
      "execution_count": null,
      "outputs": [
        {
          "output_type": "execute_result",
          "data": {
            "text/plain": [
              "6"
            ]
          },
          "metadata": {
            "tags": []
          },
          "execution_count": 13
        }
      ]
    },
    {
      "cell_type": "code",
      "metadata": {
        "colab": {
          "base_uri": "https://localhost:8080/",
          "height": 282
        },
        "id": "-MAG7DLS5w8T",
        "outputId": "93cb1a65-d4df-451f-c80e-03e7bd701c12"
      },
      "source": [
        "#Its matching\n",
        "plt.imshow(X[16], cmap = plt.get_cmap('gray'))"
      ],
      "execution_count": null,
      "outputs": [
        {
          "output_type": "execute_result",
          "data": {
            "text/plain": [
              "<matplotlib.image.AxesImage at 0x7f7bdbf74bd0>"
            ]
          },
          "metadata": {
            "tags": []
          },
          "execution_count": 14
        },
        {
          "output_type": "display_data",
          "data": {
            "image/png": "[encoded data removed]",
            "text/plain": [
              "<Figure size 432x288 with 1 Axes>"
            ]
          },
          "metadata": {
            "tags": [],
            "needs_background": "light"
          }
        }
      ]
    },
    {
      "cell_type": "code",
      "metadata": {
        "id": "6HrUGOkJ59P7"
      },
      "source": [
        "#it is finding the distance from all 1797 instances"
      ],
      "execution_count": null,
      "outputs": []
    }
  ]
}